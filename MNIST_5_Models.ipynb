{
  "nbformat": 4,
  "nbformat_minor": 0,
  "metadata": {
    "colab": {
      "name": "MNIST_5_Models.ipynb",
      "provenance": [],
      "collapsed_sections": []
    },
    "kernelspec": {
      "name": "python3",
      "display_name": "Python 3"
    },
    "language_info": {
      "name": "python"
    },
    "accelerator": "GPU"
  },
  "cells": [
    {
      "cell_type": "code",
      "metadata": {
        "id": "C7BZL7ZC_Cxk"
      },
      "source": [
        "!pip install -q keras\n",
        "import keras"
      ],
      "execution_count": 1,
      "outputs": []
    },
    {
      "cell_type": "code",
      "metadata": {
        "id": "YO4h-N2__FHP"
      },
      "source": [
        "# importing the numpy package with the alias np\n",
        "import numpy as np\n",
        "\n",
        "# importing sequential model from keras.models\n",
        "from keras.models import Sequential\n",
        "# importing different layers and activations from keras.layers\n",
        "from keras.layers import Dense, Dropout, Activation, Flatten, Add\n",
        "from keras.layers import Convolution2D, MaxPooling2D\n",
        "# importing np_utils from keras.utils\n",
        "from keras.utils import np_utils\n",
        "\n",
        "# importing the mnist dataset from keras.datasets \n",
        "from keras.datasets import mnist\n",
        "from keras.optimizers import Adam\n",
        "from keras.callbacks import LearningRateScheduler"
      ],
      "execution_count": 2,
      "outputs": []
    },
    {
      "cell_type": "code",
      "metadata": {
        "id": "bYy5KneC_F_J"
      },
      "source": [
        "# we are downloading the MNIST dataset and splitting the data for training and testing\n",
        "(X_train, y_train), (X_test, y_test) = mnist.load_data()"
      ],
      "execution_count": 3,
      "outputs": []
    },
    {
      "cell_type": "code",
      "metadata": {
        "colab": {
          "base_uri": "https://localhost:8080/",
          "height": 300
        },
        "id": "kz2m-mIr_IrQ",
        "outputId": "48b92c06-19fc-471c-8706-ebf11d917a1a"
      },
      "source": [
        "\n",
        "# printing out the shape of x_train\n",
        "print (X_train.shape)\n",
        "\n",
        "# importing pyplot with alias plt from matplotlib package\n",
        "from matplotlib import pyplot as plt\n",
        "# %matplotlib inline is a magic function to show us the plots in a notebook\n",
        "%matplotlib inline\n",
        "# plotting the first image or the image at index zero in the training dataset\n",
        "plt.imshow(X_train[0])"
      ],
      "execution_count": 4,
      "outputs": [
        {
          "output_type": "stream",
          "text": [
            "(60000, 28, 28)\n"
          ],
          "name": "stdout"
        },
        {
          "output_type": "execute_result",
          "data": {
            "text/plain": [
              "<matplotlib.image.AxesImage at 0x7fb039fe6390>"
            ]
          },
          "metadata": {
            "tags": []
          },
          "execution_count": 4
        },
        {
          "output_type": "display_data",
          "data": {
            "image/png": "[encoded data removed]",
            "text/plain": [
              "<Figure size 432x288 with 1 Axes>"
            ]
          },
          "metadata": {
            "tags": [],
            "needs_background": "light"
          }
        }
      ]
    },
    {
      "cell_type": "code",
      "metadata": {
        "id": "6s6ZnCJY_LYX"
      },
      "source": [
        "#Reshaping our training and testing datatset using numpy's reshape function which we will feed to the model\n",
        "X_train = X_train.reshape(X_train.shape[0], 28, 28,1)\n",
        "X_test = X_test.reshape(X_test.shape[0], 28, 28,1)"
      ],
      "execution_count": 5,
      "outputs": []
    },
    {
      "cell_type": "code",
      "metadata": {
        "id": "sQTQrVkR_NoY"
      },
      "source": [
        "#Doing type conversion or changing the datatype to float32 for the data\n",
        "X_train = X_train.astype('float32')\n",
        "X_test = X_test.astype('float32')\n",
        "#Doing standardization or normalization here dividind each pixel by 255 in the train and test data\n",
        "X_train /= 255\n",
        "X_test /= 255"
      ],
      "execution_count": 6,
      "outputs": []
    },
    {
      "cell_type": "code",
      "metadata": {
        "id": "02Oti5jMEGtv"
      },
      "source": [
        "# Convert 1-dimensional class arrays to 10-dimensional class matrices\n",
        "# simply we can say we are doing sort of onehot encoding\n",
        "Y_train = np_utils.to_categorical(y_train, 10)\n",
        "Y_test = np_utils.to_categorical(y_test, 10)"
      ],
      "execution_count": 7,
      "outputs": []
    },
    {
      "cell_type": "code",
      "metadata": {
        "id": "sWMSqd5KEIgf"
      },
      "source": [
        "from keras.layers import Activation,BatchNormalization"
      ],
      "execution_count": 8,
      "outputs": []
    },
    {
      "cell_type": "markdown",
      "metadata": {
        "id": "2a24y_kYE5eu"
      },
      "source": [
        "#MODEL1"
      ]
    },
    {
      "cell_type": "code",
      "metadata": {
        "colab": {
          "base_uri": "https://localhost:8080/"
        },
        "id": "5CMwpYTQEKRl",
        "outputId": "0245ce94-71e0-4b03-b1da-266f793499f4"
      },
      "source": [
        "model1 = Sequential()\n",
        "# Performing 2dconvolution followed by BatchNormalization and Dropout\n",
        "model1.add(Convolution2D(10, 3, activation='relu', input_shape=(28,28,1))) # channel dimensions = 26x26x10    \n",
        "model1.add(BatchNormalization())\n",
        "model1.add(Dropout(0.1))\n",
        "\n",
        "# Performing 2dconvolution followed by BatchNormalization and Dropout        \n",
        "model1.add(Convolution2D(16, 3, activation='relu'))                        # channel dimensions = 24x24x16    \n",
        "model1.add(BatchNormalization())\n",
        "model1.add(Dropout(0.1))\n",
        "\n",
        "# Performing 2dconvolution followed Maxpoooling operation\n",
        "model1.add(Convolution2D(10, 1, activation='relu')) #24                    # channel dimensions = 24x24x10    \n",
        "model1.add(MaxPooling2D(pool_size=(2, 2)))#12                                 # channel dimensions = 12x12x10    \n",
        "\n",
        "# Performing 2dconvolution followed by BatchNormalization and Dropout\n",
        "model1.add(Convolution2D(14, 3, activation='relu'))#10                     # channel dimensions = 10x10x14    \n",
        "model1.add(BatchNormalization())\n",
        "model1.add(Dropout(0.1))\n",
        "\n",
        "# Performing 2dconvolution followed by BatchNormalization and Dropout\n",
        "model1.add(Convolution2D(14, 3, activation='relu'))#8                      # channel dimensions = 8x8x14    \n",
        "model1.add(BatchNormalization())\n",
        "model1.add(Dropout(0.1))\n",
        "\n",
        "# Performing 2dconvolution followed by BatchNormalization and Dropout\n",
        "model1.add(Convolution2D(12, 5, activation='relu'))#6                      # channel dimensions = 4x4x12   \n",
        "model1.add(BatchNormalization())\n",
        "model1.add(Dropout(0.2))\n",
        "\n",
        "# Performing only 2dconvolution at the last convolution layer(no batchnormalization and dropout)\n",
        "model1.add(Convolution2D(10, 4))                                           # using 4x4 kernel to see the complete image\n",
        "\n",
        "# Here we are Flateening our dat i.e making it one dimensional which we will feed to the network.\n",
        "model1.add(Flatten())\n",
        "#Using softmax activation function at the last layer which is used for multi class classification\n",
        "model1.add(Activation('softmax'))\n",
        "model1.summary()"
      ],
      "execution_count": 9,
      "outputs": [
        {
          "output_type": "stream",
          "text": [
            "Model: \"sequential\"\n",
            "_________________________________________________________________\n",
            "Layer (type)                 Output Shape              Param #   \n",
            "=================================================================\n",
            "conv2d (Conv2D)              (None, 26, 26, 10)        100       \n",
            "_________________________________________________________________\n",
            "batch_normalization (BatchNo (None, 26, 26, 10)        40        \n",
            "_________________________________________________________________\n",
            "dropout (Dropout)            (None, 26, 26, 10)        0         \n",
            "_________________________________________________________________\n",
            "conv2d_1 (Conv2D)            (None, 24, 24, 16)        1456      \n",
            "_________________________________________________________________\n",
            "batch_normalization_1 (Batch (None, 24, 24, 16)        64        \n",
            "_________________________________________________________________\n",
            "dropout_1 (Dropout)          (None, 24, 24, 16)        0         \n",
            "_________________________________________________________________\n",
            "conv2d_2 (Conv2D)            (None, 24, 24, 10)        170       \n",
            "_________________________________________________________________\n",
            "max_pooling2d (MaxPooling2D) (None, 12, 12, 10)        0         \n",
            "_________________________________________________________________\n",
            "conv2d_3 (Conv2D)            (None, 10, 10, 14)        1274      \n",
            "_________________________________________________________________\n",
            "batch_normalization_2 (Batch (None, 10, 10, 14)        56        \n",
            "_________________________________________________________________\n",
            "dropout_2 (Dropout)          (None, 10, 10, 14)        0         \n",
            "_________________________________________________________________\n",
            "conv2d_4 (Conv2D)            (None, 8, 8, 14)          1778      \n",
            "_________________________________________________________________\n",
            "batch_normalization_3 (Batch (None, 8, 8, 14)          56        \n",
            "_________________________________________________________________\n",
            "dropout_3 (Dropout)          (None, 8, 8, 14)          0         \n",
            "_________________________________________________________________\n",
            "conv2d_5 (Conv2D)            (None, 4, 4, 12)          4212      \n",
            "_________________________________________________________________\n",
            "batch_normalization_4 (Batch (None, 4, 4, 12)          48        \n",
            "_________________________________________________________________\n",
            "dropout_4 (Dropout)          (None, 4, 4, 12)          0         \n",
            "_________________________________________________________________\n",
            "conv2d_6 (Conv2D)            (None, 1, 1, 10)          1930      \n",
            "_________________________________________________________________\n",
            "flatten (Flatten)            (None, 10)                0         \n",
            "_________________________________________________________________\n",
            "activation (Activation)      (None, 10)                0         \n",
            "=================================================================\n",
            "Total params: 11,184\n",
            "Trainable params: 11,052\n",
            "Non-trainable params: 132\n",
            "_________________________________________________________________\n"
          ],
          "name": "stdout"
        }
      ]
    },
    {
      "cell_type": "code",
      "metadata": {
        "colab": {
          "base_uri": "https://localhost:8080/"
        },
        "id": "7z5qFHprFEBb",
        "outputId": "eb9aa454-ff67-480a-a749-a02420ecde99"
      },
      "source": [
        "\n",
        "\n",
        "\n",
        "# We are importing the learningratescheduler callback\n",
        "\n",
        "#Creating the \"scheduler\" function with two arguments i.e learningrate and epoch\n",
        "def scheduler(epoch, lr):\n",
        "  return round(0.003 * 1/(1 + 0.319 * epoch), 10)\n",
        "\n",
        "#\tLearningRate = LearningRate * 1/(1 + decay * epoch) here decay is 0.319 and epoch is 10.\n",
        "\n",
        "# here we are compiling our model and using 'categorical_crossentropy' as our loss function and adam as our optimizer with learning rate =0.003 and metrics is accuracy\n",
        "model1.compile(loss='categorical_crossentropy', optimizer=Adam(lr=0.003), metrics=['accuracy'])\n",
        "\n",
        "# Here we are traing our model using the data and using batch size of 128,number of epochs are 20 and using verbose=1 for printing out all the results.\n",
        "# In the callbacks parameter we are using the LearningRateScheduler which takes two arguments scheduler function which we built earlier to reduce the learning rate in each decay and verbose =1\n",
        "model1.fit(X_train, Y_train, batch_size=128, epochs=20, verbose=1, validation_data=(X_test, Y_test), callbacks=[LearningRateScheduler(scheduler, verbose=1)])"
      ],
      "execution_count": 10,
      "outputs": [
        {
          "output_type": "stream",
          "text": [
            "/usr/local/lib/python3.7/dist-packages/tensorflow/python/keras/optimizer_v2/optimizer_v2.py:375: UserWarning: The `lr` argument is deprecated, use `learning_rate` instead.\n",
            "  \"The `lr` argument is deprecated, use `learning_rate` instead.\")\n"
          ],
          "name": "stderr"
        },
        {
          "output_type": "stream",
          "text": [
            "Epoch 1/20\n",
            "\n",
            "Epoch 00001: LearningRateScheduler reducing learning rate to 0.003.\n",
            "469/469 [==============================] - 51s 10ms/step - loss: 0.4749 - accuracy: 0.8499 - val_loss: 0.2096 - val_accuracy: 0.9325\n",
            "Epoch 2/20\n",
            "\n",
            "Epoch 00002: LearningRateScheduler reducing learning rate to 0.0022744503.\n",
            "469/469 [==============================] - 3s 7ms/step - loss: 0.0655 - accuracy: 0.9791 - val_loss: 0.0420 - val_accuracy: 0.9861\n",
            "Epoch 3/20\n",
            "\n",
            "Epoch 00003: LearningRateScheduler reducing learning rate to 0.0018315018.\n",
            "469/469 [==============================] - 3s 7ms/step - loss: 0.0507 - accuracy: 0.9836 - val_loss: 0.0396 - val_accuracy: 0.9872\n",
            "Epoch 4/20\n",
            "\n",
            "Epoch 00004: LearningRateScheduler reducing learning rate to 0.0015329586.\n",
            "469/469 [==============================] - 3s 7ms/step - loss: 0.0420 - accuracy: 0.9865 - val_loss: 0.0327 - val_accuracy: 0.9891\n",
            "Epoch 5/20\n",
            "\n",
            "Epoch 00005: LearningRateScheduler reducing learning rate to 0.0013181019.\n",
            "469/469 [==============================] - 3s 7ms/step - loss: 0.0410 - accuracy: 0.9870 - val_loss: 0.0328 - val_accuracy: 0.9893\n",
            "Epoch 6/20\n",
            "\n",
            "Epoch 00006: LearningRateScheduler reducing learning rate to 0.0011560694.\n",
            "469/469 [==============================] - 3s 7ms/step - loss: 0.0343 - accuracy: 0.9895 - val_loss: 0.0276 - val_accuracy: 0.9916\n",
            "Epoch 7/20\n",
            "\n",
            "Epoch 00007: LearningRateScheduler reducing learning rate to 0.0010295127.\n",
            "469/469 [==============================] - 3s 7ms/step - loss: 0.0314 - accuracy: 0.9895 - val_loss: 0.0293 - val_accuracy: 0.9910\n",
            "Epoch 8/20\n",
            "\n",
            "Epoch 00008: LearningRateScheduler reducing learning rate to 0.0009279307.\n",
            "469/469 [==============================] - 3s 7ms/step - loss: 0.0307 - accuracy: 0.9905 - val_loss: 0.0286 - val_accuracy: 0.9918\n",
            "Epoch 9/20\n",
            "\n",
            "Epoch 00009: LearningRateScheduler reducing learning rate to 0.0008445946.\n",
            "469/469 [==============================] - 3s 7ms/step - loss: 0.0282 - accuracy: 0.9913 - val_loss: 0.0265 - val_accuracy: 0.9921\n",
            "Epoch 10/20\n",
            "\n",
            "Epoch 00010: LearningRateScheduler reducing learning rate to 0.0007749935.\n",
            "469/469 [==============================] - 3s 7ms/step - loss: 0.0261 - accuracy: 0.9919 - val_loss: 0.0327 - val_accuracy: 0.9914\n",
            "Epoch 11/20\n",
            "\n",
            "Epoch 00011: LearningRateScheduler reducing learning rate to 0.0007159905.\n",
            "469/469 [==============================] - 4s 8ms/step - loss: 0.0254 - accuracy: 0.9918 - val_loss: 0.0229 - val_accuracy: 0.9932\n",
            "Epoch 12/20\n",
            "\n",
            "Epoch 00012: LearningRateScheduler reducing learning rate to 0.000665336.\n",
            "469/469 [==============================] - 4s 8ms/step - loss: 0.0235 - accuracy: 0.9925 - val_loss: 0.0227 - val_accuracy: 0.9930\n",
            "Epoch 13/20\n",
            "\n",
            "Epoch 00013: LearningRateScheduler reducing learning rate to 0.0006213753.\n",
            "469/469 [==============================] - 4s 8ms/step - loss: 0.0230 - accuracy: 0.9922 - val_loss: 0.0232 - val_accuracy: 0.9928\n",
            "Epoch 14/20\n",
            "\n",
            "Epoch 00014: LearningRateScheduler reducing learning rate to 0.0005828638.\n",
            "469/469 [==============================] - 4s 8ms/step - loss: 0.0230 - accuracy: 0.9921 - val_loss: 0.0228 - val_accuracy: 0.9930\n",
            "Epoch 15/20\n",
            "\n",
            "Epoch 00015: LearningRateScheduler reducing learning rate to 0.0005488474.\n",
            "469/469 [==============================] - 4s 8ms/step - loss: 0.0223 - accuracy: 0.9932 - val_loss: 0.0260 - val_accuracy: 0.9918\n",
            "Epoch 16/20\n",
            "\n",
            "Epoch 00016: LearningRateScheduler reducing learning rate to 0.0005185825.\n",
            "469/469 [==============================] - 4s 8ms/step - loss: 0.0226 - accuracy: 0.9929 - val_loss: 0.0251 - val_accuracy: 0.9923\n",
            "Epoch 17/20\n",
            "\n",
            "Epoch 00017: LearningRateScheduler reducing learning rate to 0.000491481.\n",
            "469/469 [==============================] - 4s 8ms/step - loss: 0.0202 - accuracy: 0.9936 - val_loss: 0.0254 - val_accuracy: 0.9918\n",
            "Epoch 18/20\n",
            "\n",
            "Epoch 00018: LearningRateScheduler reducing learning rate to 0.0004670715.\n",
            "469/469 [==============================] - 4s 7ms/step - loss: 0.0205 - accuracy: 0.9934 - val_loss: 0.0215 - val_accuracy: 0.9933\n",
            "Epoch 19/20\n",
            "\n",
            "Epoch 00019: LearningRateScheduler reducing learning rate to 0.0004449718.\n",
            "469/469 [==============================] - 3s 7ms/step - loss: 0.0215 - accuracy: 0.9928 - val_loss: 0.0212 - val_accuracy: 0.9935\n",
            "Epoch 20/20\n",
            "\n",
            "Epoch 00020: LearningRateScheduler reducing learning rate to 0.000424869.\n",
            "469/469 [==============================] - 4s 8ms/step - loss: 0.0202 - accuracy: 0.9936 - val_loss: 0.0251 - val_accuracy: 0.9926\n"
          ],
          "name": "stdout"
        },
        {
          "output_type": "execute_result",
          "data": {
            "text/plain": [
              "<keras.callbacks.History at 0x7fb0300748d0>"
            ]
          },
          "metadata": {
            "tags": []
          },
          "execution_count": 10
        }
      ]
    },
    {
      "cell_type": "code",
      "metadata": {
        "colab": {
          "base_uri": "https://localhost:8080/"
        },
        "id": "eqfH1qqrFn5o",
        "outputId": "b7411d46-7044-44bf-ed76-8290d2e7f16c"
      },
      "source": [
        "score = model1.evaluate(X_test, Y_test, verbose=0)\n",
        "print(score)\n",
        "y_pred = model1.predict(X_test)\n",
        "index1={}\n",
        "for i, k in enumerate(y_pred[1:2][0]):\n",
        "  index1.update({k:i})\n",
        "print('Prediction:',index1[max(index1)])\n",
        "print('Actual',y_test[1:2][0])"
      ],
      "execution_count": 11,
      "outputs": [
        {
          "output_type": "stream",
          "text": [
            "[0.025077804923057556, 0.9926000237464905]\n",
            "Prediction: 2\n",
            "Actual 2\n"
          ],
          "name": "stdout"
        }
      ]
    },
    {
      "cell_type": "markdown",
      "metadata": {
        "id": "CQcJdaP0NIWE"
      },
      "source": [
        "#MODEL2"
      ]
    },
    {
      "cell_type": "code",
      "metadata": {
        "colab": {
          "base_uri": "https://localhost:8080/"
        },
        "id": "d1nLxz3yNKGf",
        "outputId": "0729f03b-3592-4613-8158-4aef517c75ab"
      },
      "source": [
        "model2 = Sequential()\n",
        "# Performing 2dconvolution followed by BatchNormalization and Dropout\n",
        "model2.add(Convolution2D(10, 3, activation='relu', input_shape=(28,28,1))) # channel dimensions = 26x26x10    \n",
        "model2.add(BatchNormalization())\n",
        "model2.add(Dropout(0.1))\n",
        "\n",
        "# Performing 2dconvolution followed by BatchNormalization and Dropout        \n",
        "model2.add(Convolution2D(16, 3, activation='relu'))                        # channel dimensions = 24x24x16    \n",
        "model2.add(BatchNormalization())\n",
        "model2.add(Dropout(0.1))\n",
        "\n",
        "# Performing 2dconvolution followed Maxpoooling operation\n",
        "model2.add(Convolution2D(10, 1, activation='relu')) #24                    # channel dimensions = 24x24x10    \n",
        "model2.add(MaxPooling2D(pool_size=(2, 2)))#12                                 # channel dimensions = 12x12x10    \n",
        "\n",
        "# Performing 2dconvolution followed by BatchNormalization and Dropout\n",
        "model2.add(Convolution2D(14, 3, activation='relu'))#10                     # channel dimensions = 10x10x14    \n",
        "model2.add(BatchNormalization())\n",
        "model2.add(Dropout(0.1))\n",
        "\n",
        "# Performing 2dconvolution followed by BatchNormalization and Dropout\n",
        "model2.add(Convolution2D(14, 7, activation='relu'))#8                      # channel dimensions = 4x4x14    \n",
        "model2.add(BatchNormalization())\n",
        "model2.add(Dropout(0.1))\n",
        "\n",
        "\n",
        "# Performing only 2dconvolution at the last convolution layer(no batchnormalization and dropout)\n",
        "model2.add(Convolution2D(10, 4))                                           # using 4x4 kernel to see the complete image\n",
        "\n",
        "# Here we are Flateening our dat i.e making it one dimensional which we will feed to the network.\n",
        "model2.add(Flatten())\n",
        "#Using softmax activation function at the last layer which is used for multi class classification\n",
        "model2.add(Activation('softmax'))\n",
        "model2.summary()"
      ],
      "execution_count": 12,
      "outputs": [
        {
          "output_type": "stream",
          "text": [
            "Model: \"sequential_1\"\n",
            "_________________________________________________________________\n",
            "Layer (type)                 Output Shape              Param #   \n",
            "=================================================================\n",
            "conv2d_7 (Conv2D)            (None, 26, 26, 10)        100       \n",
            "_________________________________________________________________\n",
            "batch_normalization_5 (Batch (None, 26, 26, 10)        40        \n",
            "_________________________________________________________________\n",
            "dropout_5 (Dropout)          (None, 26, 26, 10)        0         \n",
            "_________________________________________________________________\n",
            "conv2d_8 (Conv2D)            (None, 24, 24, 16)        1456      \n",
            "_________________________________________________________________\n",
            "batch_normalization_6 (Batch (None, 24, 24, 16)        64        \n",
            "_________________________________________________________________\n",
            "dropout_6 (Dropout)          (None, 24, 24, 16)        0         \n",
            "_________________________________________________________________\n",
            "conv2d_9 (Conv2D)            (None, 24, 24, 10)        170       \n",
            "_________________________________________________________________\n",
            "max_pooling2d_1 (MaxPooling2 (None, 12, 12, 10)        0         \n",
            "_________________________________________________________________\n",
            "conv2d_10 (Conv2D)           (None, 10, 10, 14)        1274      \n",
            "_________________________________________________________________\n",
            "batch_normalization_7 (Batch (None, 10, 10, 14)        56        \n",
            "_________________________________________________________________\n",
            "dropout_7 (Dropout)          (None, 10, 10, 14)        0         \n",
            "_________________________________________________________________\n",
            "conv2d_11 (Conv2D)           (None, 4, 4, 14)          9618      \n",
            "_________________________________________________________________\n",
            "batch_normalization_8 (Batch (None, 4, 4, 14)          56        \n",
            "_________________________________________________________________\n",
            "dropout_8 (Dropout)          (None, 4, 4, 14)          0         \n",
            "_________________________________________________________________\n",
            "conv2d_12 (Conv2D)           (None, 1, 1, 10)          2250      \n",
            "_________________________________________________________________\n",
            "flatten_1 (Flatten)          (None, 10)                0         \n",
            "_________________________________________________________________\n",
            "activation_1 (Activation)    (None, 10)                0         \n",
            "=================================================================\n",
            "Total params: 15,084\n",
            "Trainable params: 14,976\n",
            "Non-trainable params: 108\n",
            "_________________________________________________________________\n"
          ],
          "name": "stdout"
        }
      ]
    },
    {
      "cell_type": "code",
      "metadata": {
        "colab": {
          "base_uri": "https://localhost:8080/"
        },
        "id": "3th86W5UNtiE",
        "outputId": "7128a0c4-1f61-411e-bccf-4b5fde6c4d07"
      },
      "source": [
        "\n",
        "\n",
        "\n",
        "# We are importing the learningratescheduler callback\n",
        "\n",
        "#Creating the \"scheduler\" function with two arguments i.e learningrate and epoch\n",
        "def scheduler(epoch, lr):\n",
        "  return round(0.003 * 1/(1 + 0.319 * epoch), 10)\n",
        "\n",
        "#\tLearningRate = LearningRate * 1/(1 + decay * epoch) here decay is 0.319 and epoch is 10.\n",
        "\n",
        "# here we are compiling our model and using 'categorical_crossentropy' as our loss function and adam as our optimizer with learning rate =0.003 and metrics is accuracy\n",
        "model2.compile(loss='categorical_crossentropy', optimizer=Adam(lr=0.003), metrics=['accuracy'])\n",
        "\n",
        "# Here we are traing our model using the data and using batch size of 128,number of epochs are 20 and using verbose=1 for printing out all the results.\n",
        "# In the callbacks parameter we are using the LearningRateScheduler which takes two arguments scheduler function which we built earlier to reduce the learning rate in each decay and verbose =1\n",
        "model2.fit(X_train, Y_train, batch_size=128, epochs=20, verbose=1, validation_data=(X_test, Y_test), callbacks=[LearningRateScheduler(scheduler, verbose=1)])"
      ],
      "execution_count": 13,
      "outputs": [
        {
          "output_type": "stream",
          "text": [
            "Epoch 1/20\n",
            "\n",
            "Epoch 00001: LearningRateScheduler reducing learning rate to 0.003.\n"
          ],
          "name": "stdout"
        },
        {
          "output_type": "stream",
          "text": [
            "/usr/local/lib/python3.7/dist-packages/tensorflow/python/keras/optimizer_v2/optimizer_v2.py:375: UserWarning: The `lr` argument is deprecated, use `learning_rate` instead.\n",
            "  \"The `lr` argument is deprecated, use `learning_rate` instead.\")\n"
          ],
          "name": "stderr"
        },
        {
          "output_type": "stream",
          "text": [
            "469/469 [==============================] - 5s 8ms/step - loss: 0.3388 - accuracy: 0.8927 - val_loss: 0.2959 - val_accuracy: 0.9028\n",
            "Epoch 2/20\n",
            "\n",
            "Epoch 00002: LearningRateScheduler reducing learning rate to 0.0022744503.\n",
            "469/469 [==============================] - 3s 7ms/step - loss: 0.0569 - accuracy: 0.9819 - val_loss: 0.0395 - val_accuracy: 0.9863\n",
            "Epoch 3/20\n",
            "\n",
            "Epoch 00003: LearningRateScheduler reducing learning rate to 0.0018315018.\n",
            "469/469 [==============================] - 3s 7ms/step - loss: 0.0388 - accuracy: 0.9879 - val_loss: 0.0367 - val_accuracy: 0.9873\n",
            "Epoch 4/20\n",
            "\n",
            "Epoch 00004: LearningRateScheduler reducing learning rate to 0.0015329586.\n",
            "469/469 [==============================] - 3s 7ms/step - loss: 0.0334 - accuracy: 0.9891 - val_loss: 0.0334 - val_accuracy: 0.9881\n",
            "Epoch 5/20\n",
            "\n",
            "Epoch 00005: LearningRateScheduler reducing learning rate to 0.0013181019.\n",
            "469/469 [==============================] - 3s 7ms/step - loss: 0.0291 - accuracy: 0.9905 - val_loss: 0.0319 - val_accuracy: 0.9897\n",
            "Epoch 6/20\n",
            "\n",
            "Epoch 00006: LearningRateScheduler reducing learning rate to 0.0011560694.\n",
            "469/469 [==============================] - 3s 7ms/step - loss: 0.0269 - accuracy: 0.9916 - val_loss: 0.0279 - val_accuracy: 0.9915\n",
            "Epoch 7/20\n",
            "\n",
            "Epoch 00007: LearningRateScheduler reducing learning rate to 0.0010295127.\n",
            "469/469 [==============================] - 3s 7ms/step - loss: 0.0252 - accuracy: 0.9922 - val_loss: 0.0319 - val_accuracy: 0.9906\n",
            "Epoch 8/20\n",
            "\n",
            "Epoch 00008: LearningRateScheduler reducing learning rate to 0.0009279307.\n",
            "469/469 [==============================] - 3s 7ms/step - loss: 0.0222 - accuracy: 0.9925 - val_loss: 0.0276 - val_accuracy: 0.9917\n",
            "Epoch 9/20\n",
            "\n",
            "Epoch 00009: LearningRateScheduler reducing learning rate to 0.0008445946.\n",
            "469/469 [==============================] - 3s 7ms/step - loss: 0.0197 - accuracy: 0.9938 - val_loss: 0.0237 - val_accuracy: 0.9926\n",
            "Epoch 10/20\n",
            "\n",
            "Epoch 00010: LearningRateScheduler reducing learning rate to 0.0007749935.\n",
            "469/469 [==============================] - 3s 7ms/step - loss: 0.0190 - accuracy: 0.9939 - val_loss: 0.0282 - val_accuracy: 0.9910\n",
            "Epoch 11/20\n",
            "\n",
            "Epoch 00011: LearningRateScheduler reducing learning rate to 0.0007159905.\n",
            "469/469 [==============================] - 3s 7ms/step - loss: 0.0167 - accuracy: 0.9949 - val_loss: 0.0287 - val_accuracy: 0.9917\n",
            "Epoch 12/20\n",
            "\n",
            "Epoch 00012: LearningRateScheduler reducing learning rate to 0.000665336.\n",
            "469/469 [==============================] - 3s 7ms/step - loss: 0.0174 - accuracy: 0.9946 - val_loss: 0.0236 - val_accuracy: 0.9928\n",
            "Epoch 13/20\n",
            "\n",
            "Epoch 00013: LearningRateScheduler reducing learning rate to 0.0006213753.\n",
            "469/469 [==============================] - 3s 7ms/step - loss: 0.0169 - accuracy: 0.9945 - val_loss: 0.0228 - val_accuracy: 0.9923\n",
            "Epoch 14/20\n",
            "\n",
            "Epoch 00014: LearningRateScheduler reducing learning rate to 0.0005828638.\n",
            "469/469 [==============================] - 3s 7ms/step - loss: 0.0161 - accuracy: 0.9949 - val_loss: 0.0253 - val_accuracy: 0.9927\n",
            "Epoch 15/20\n",
            "\n",
            "Epoch 00015: LearningRateScheduler reducing learning rate to 0.0005488474.\n",
            "469/469 [==============================] - 3s 7ms/step - loss: 0.0153 - accuracy: 0.9950 - val_loss: 0.0235 - val_accuracy: 0.9921\n",
            "Epoch 16/20\n",
            "\n",
            "Epoch 00016: LearningRateScheduler reducing learning rate to 0.0005185825.\n",
            "469/469 [==============================] - 3s 7ms/step - loss: 0.0128 - accuracy: 0.9955 - val_loss: 0.0241 - val_accuracy: 0.9924\n",
            "Epoch 17/20\n",
            "\n",
            "Epoch 00017: LearningRateScheduler reducing learning rate to 0.000491481.\n",
            "469/469 [==============================] - 3s 7ms/step - loss: 0.0125 - accuracy: 0.9958 - val_loss: 0.0233 - val_accuracy: 0.9931\n",
            "Epoch 18/20\n",
            "\n",
            "Epoch 00018: LearningRateScheduler reducing learning rate to 0.0004670715.\n",
            "469/469 [==============================] - 3s 7ms/step - loss: 0.0134 - accuracy: 0.9958 - val_loss: 0.0239 - val_accuracy: 0.9935\n",
            "Epoch 19/20\n",
            "\n",
            "Epoch 00019: LearningRateScheduler reducing learning rate to 0.0004449718.\n",
            "469/469 [==============================] - 3s 7ms/step - loss: 0.0123 - accuracy: 0.9962 - val_loss: 0.0232 - val_accuracy: 0.9929\n",
            "Epoch 20/20\n",
            "\n",
            "Epoch 00020: LearningRateScheduler reducing learning rate to 0.000424869.\n",
            "469/469 [==============================] - 3s 7ms/step - loss: 0.0124 - accuracy: 0.9959 - val_loss: 0.0237 - val_accuracy: 0.9932\n"
          ],
          "name": "stdout"
        },
        {
          "output_type": "execute_result",
          "data": {
            "text/plain": [
              "<keras.callbacks.History at 0x7f476ffc9d10>"
            ]
          },
          "metadata": {
            "tags": []
          },
          "execution_count": 13
        }
      ]
    },
    {
      "cell_type": "code",
      "metadata": {
        "colab": {
          "base_uri": "https://localhost:8080/"
        },
        "id": "G_SUsJMDN8gU",
        "outputId": "6fbda592-a657-4544-9131-09f2f45dd789"
      },
      "source": [
        "score = model2.evaluate(X_test, Y_test, verbose=0)\n",
        "print(score)\n",
        "y_pred = model2.predict(X_test)\n",
        "index1={}\n",
        "for i, k in enumerate(y_pred[1:2][0]):\n",
        "  index1.update({k:i})\n",
        "print('Prediction:',index1[max(index1)])\n",
        "print('Actual',y_test[1:2][0])"
      ],
      "execution_count": 14,
      "outputs": [
        {
          "output_type": "stream",
          "text": [
            "[0.023714520037174225, 0.9932000041007996]\n",
            "Prediction: 2\n",
            "Actual 2\n"
          ],
          "name": "stdout"
        }
      ]
    },
    {
      "cell_type": "markdown",
      "metadata": {
        "id": "LJJ-PqOmcl4S"
      },
      "source": [
        "#MODEL3"
      ]
    },
    {
      "cell_type": "code",
      "metadata": {
        "colab": {
          "base_uri": "https://localhost:8080/"
        },
        "id": "LavPDYTxcocz",
        "outputId": "a8a3a311-da2b-4024-e5f7-50e76e6e200b"
      },
      "source": [
        "model3 = Sequential()\n",
        "# Performing 2dconvolution followed by BatchNormalization and Dropout\n",
        "model3.add(Convolution2D(10, 3, activation='relu', input_shape=(28,28,1))) # channel dimensions = 26x26x10    \n",
        "model3.add(BatchNormalization())\n",
        "model3.add(Dropout(0.1))\n",
        "\n",
        "# Performing 2dconvolution followed by BatchNormalization and Dropout        \n",
        "model3.add(Convolution2D(16, 3, activation='relu'))                        # channel dimensions = 24x24x16    \n",
        "model3.add(BatchNormalization())\n",
        "model3.add(Dropout(0.1))\n",
        "\n",
        "# Performing 2dconvolution followed Maxpoooling operation\n",
        "model3.add(Convolution2D(10, 1, activation='relu')) #24                    # channel dimensions = 24x24x10    \n",
        "model3.add(MaxPooling2D(pool_size=(2, 2)))#12                                 # channel dimensions = 12x12x10    \n",
        "\n",
        "# Performing 2dconvolution followed by BatchNormalization and Dropout\n",
        "model3.add(Convolution2D(14, 3, activation='relu'))#10                     # channel dimensions = 10x10x14    \n",
        "model3.add(BatchNormalization())\n",
        "model3.add(Dropout(0.1))\n",
        "\n",
        "# Performing 2dconvolution followed by BatchNormalization and Dropout\n",
        "model3.add(Convolution2D(14, 3, activation='relu'))#8                      # channel dimensions = 8x8x14    \n",
        "model3.add(BatchNormalization())\n",
        "model3.add(Dropout(0.1))\n",
        "\n",
        "# Performing 2dconvolution followed by BatchNormalization and Dropout\n",
        "model3.add(Convolution2D(12, 3, activation='relu'))#6                      # channel dimensions = 6x6x12   \n",
        "model3.add(BatchNormalization())\n",
        "model3.add(Dropout(0.2))\n",
        "\n",
        "# Performing 2dconvolution followed by BatchNormalization and Dropout\n",
        "model3.add(Convolution2D(12, 3, activation='relu'))#4                      # channel dimensions = 4x4x12    \n",
        "model3.add(BatchNormalization())\n",
        "model3.add(Dropout(0.1))\n",
        "\n",
        "\n",
        "# Here we are Flateening our dat i.e making it one dimensional which we will feed to the network.\n",
        "model3.add(Flatten())\n",
        "model3.add(Dense(10,activation='relu'))                                    # Fully Connected Layer\n",
        "#Using softmax activation function at the last layer which is used for multi class classification\n",
        "model3.add(Activation('softmax'))\n",
        "model3.summary()"
      ],
      "execution_count": 15,
      "outputs": [
        {
          "output_type": "stream",
          "text": [
            "Model: \"sequential_2\"\n",
            "_________________________________________________________________\n",
            "Layer (type)                 Output Shape              Param #   \n",
            "=================================================================\n",
            "conv2d_13 (Conv2D)           (None, 26, 26, 10)        100       \n",
            "_________________________________________________________________\n",
            "batch_normalization_9 (Batch (None, 26, 26, 10)        40        \n",
            "_________________________________________________________________\n",
            "dropout_9 (Dropout)          (None, 26, 26, 10)        0         \n",
            "_________________________________________________________________\n",
            "conv2d_14 (Conv2D)           (None, 24, 24, 16)        1456      \n",
            "_________________________________________________________________\n",
            "batch_normalization_10 (Batc (None, 24, 24, 16)        64        \n",
            "_________________________________________________________________\n",
            "dropout_10 (Dropout)         (None, 24, 24, 16)        0         \n",
            "_________________________________________________________________\n",
            "conv2d_15 (Conv2D)           (None, 24, 24, 10)        170       \n",
            "_________________________________________________________________\n",
            "max_pooling2d_2 (MaxPooling2 (None, 12, 12, 10)        0         \n",
            "_________________________________________________________________\n",
            "conv2d_16 (Conv2D)           (None, 10, 10, 14)        1274      \n",
            "_________________________________________________________________\n",
            "batch_normalization_11 (Batc (None, 10, 10, 14)        56        \n",
            "_________________________________________________________________\n",
            "dropout_11 (Dropout)         (None, 10, 10, 14)        0         \n",
            "_________________________________________________________________\n",
            "conv2d_17 (Conv2D)           (None, 8, 8, 14)          1778      \n",
            "_________________________________________________________________\n",
            "batch_normalization_12 (Batc (None, 8, 8, 14)          56        \n",
            "_________________________________________________________________\n",
            "dropout_12 (Dropout)         (None, 8, 8, 14)          0         \n",
            "_________________________________________________________________\n",
            "conv2d_18 (Conv2D)           (None, 6, 6, 12)          1524      \n",
            "_________________________________________________________________\n",
            "batch_normalization_13 (Batc (None, 6, 6, 12)          48        \n",
            "_________________________________________________________________\n",
            "dropout_13 (Dropout)         (None, 6, 6, 12)          0         \n",
            "_________________________________________________________________\n",
            "conv2d_19 (Conv2D)           (None, 4, 4, 12)          1308      \n",
            "_________________________________________________________________\n",
            "batch_normalization_14 (Batc (None, 4, 4, 12)          48        \n",
            "_________________________________________________________________\n",
            "dropout_14 (Dropout)         (None, 4, 4, 12)          0         \n",
            "_________________________________________________________________\n",
            "flatten_2 (Flatten)          (None, 192)               0         \n",
            "_________________________________________________________________\n",
            "dense (Dense)                (None, 10)                1930      \n",
            "_________________________________________________________________\n",
            "activation_2 (Activation)    (None, 10)                0         \n",
            "=================================================================\n",
            "Total params: 9,852\n",
            "Trainable params: 9,696\n",
            "Non-trainable params: 156\n",
            "_________________________________________________________________\n"
          ],
          "name": "stdout"
        }
      ]
    },
    {
      "cell_type": "code",
      "metadata": {
        "colab": {
          "base_uri": "https://localhost:8080/"
        },
        "id": "xrqpDwN2evSv",
        "outputId": "ebb32682-73bd-487a-974e-6b78db53569b"
      },
      "source": [
        "\n",
        "\n",
        "\n",
        "# We are importing the learningratescheduler callback\n",
        "\n",
        "#Creating the \"scheduler\" function with two arguments i.e learningrate and epoch\n",
        "def scheduler(epoch, lr):\n",
        "  return round(0.003 * 1/(1 + 0.319 * epoch), 10)\n",
        "\n",
        "#\tLearningRate = LearningRate * 1/(1 + decay * epoch) here decay is 0.319 and epoch is 10.\n",
        "\n",
        "# here we are compiling our model and using 'categorical_crossentropy' as our loss function and adam as our optimizer with learning rate =0.003 and metrics is accuracy\n",
        "model3.compile(loss='categorical_crossentropy', optimizer=Adam(lr=0.003), metrics=['accuracy'])\n",
        "\n",
        "# Here we are traing our model using the data and using batch size of 128,number of epochs are 20 and using verbose=1 for printing out all the results.\n",
        "# In the callbacks parameter we are using the LearningRateScheduler which takes two arguments scheduler function which we built earlier to reduce the learning rate in each decay and verbose =1\n",
        "model3.fit(X_train, Y_train, batch_size=128, epochs=20, verbose=1, validation_data=(X_test, Y_test), callbacks=[LearningRateScheduler(scheduler, verbose=1)])"
      ],
      "execution_count": 16,
      "outputs": [
        {
          "output_type": "stream",
          "text": [
            "Epoch 1/20\n",
            "\n",
            "Epoch 00001: LearningRateScheduler reducing learning rate to 0.003.\n"
          ],
          "name": "stdout"
        },
        {
          "output_type": "stream",
          "text": [
            "/usr/local/lib/python3.7/dist-packages/tensorflow/python/keras/optimizer_v2/optimizer_v2.py:375: UserWarning: The `lr` argument is deprecated, use `learning_rate` instead.\n",
            "  \"The `lr` argument is deprecated, use `learning_rate` instead.\")\n"
          ],
          "name": "stderr"
        },
        {
          "output_type": "stream",
          "text": [
            "469/469 [==============================] - 7s 10ms/step - loss: 0.6321 - accuracy: 0.7963 - val_loss: 0.3020 - val_accuracy: 0.9009\n",
            "Epoch 2/20\n",
            "\n",
            "Epoch 00002: LearningRateScheduler reducing learning rate to 0.0022744503.\n",
            "469/469 [==============================] - 4s 8ms/step - loss: 0.0858 - accuracy: 0.9726 - val_loss: 0.0512 - val_accuracy: 0.9851\n",
            "Epoch 3/20\n",
            "\n",
            "Epoch 00003: LearningRateScheduler reducing learning rate to 0.0018315018.\n",
            "469/469 [==============================] - 4s 8ms/step - loss: 0.0598 - accuracy: 0.9819 - val_loss: 0.0360 - val_accuracy: 0.9875\n",
            "Epoch 4/20\n",
            "\n",
            "Epoch 00004: LearningRateScheduler reducing learning rate to 0.0015329586.\n",
            "469/469 [==============================] - 4s 8ms/step - loss: 0.0554 - accuracy: 0.9829 - val_loss: 0.0345 - val_accuracy: 0.9894\n",
            "Epoch 5/20\n",
            "\n",
            "Epoch 00005: LearningRateScheduler reducing learning rate to 0.0013181019.\n",
            "469/469 [==============================] - 4s 8ms/step - loss: 0.0462 - accuracy: 0.9860 - val_loss: 0.0381 - val_accuracy: 0.9884\n",
            "Epoch 6/20\n",
            "\n",
            "Epoch 00006: LearningRateScheduler reducing learning rate to 0.0011560694.\n",
            "469/469 [==============================] - 4s 8ms/step - loss: 0.0425 - accuracy: 0.9861 - val_loss: 0.0295 - val_accuracy: 0.9906\n",
            "Epoch 7/20\n",
            "\n",
            "Epoch 00007: LearningRateScheduler reducing learning rate to 0.0010295127.\n",
            "469/469 [==============================] - 4s 8ms/step - loss: 0.0395 - accuracy: 0.9882 - val_loss: 0.0267 - val_accuracy: 0.9914\n",
            "Epoch 8/20\n",
            "\n",
            "Epoch 00008: LearningRateScheduler reducing learning rate to 0.0009279307.\n",
            "469/469 [==============================] - 4s 8ms/step - loss: 0.0380 - accuracy: 0.9881 - val_loss: 0.0270 - val_accuracy: 0.9920\n",
            "Epoch 9/20\n",
            "\n",
            "Epoch 00009: LearningRateScheduler reducing learning rate to 0.0008445946.\n",
            "469/469 [==============================] - 4s 8ms/step - loss: 0.0376 - accuracy: 0.9879 - val_loss: 0.0218 - val_accuracy: 0.9936\n",
            "Epoch 10/20\n",
            "\n",
            "Epoch 00010: LearningRateScheduler reducing learning rate to 0.0007749935.\n",
            "469/469 [==============================] - 4s 8ms/step - loss: 0.0333 - accuracy: 0.9889 - val_loss: 0.0210 - val_accuracy: 0.9935\n",
            "Epoch 11/20\n",
            "\n",
            "Epoch 00011: LearningRateScheduler reducing learning rate to 0.0007159905.\n",
            "469/469 [==============================] - 4s 8ms/step - loss: 0.0312 - accuracy: 0.9902 - val_loss: 0.0246 - val_accuracy: 0.9924\n",
            "Epoch 12/20\n",
            "\n",
            "Epoch 00012: LearningRateScheduler reducing learning rate to 0.000665336.\n",
            "469/469 [==============================] - 4s 8ms/step - loss: 0.0312 - accuracy: 0.9900 - val_loss: 0.0225 - val_accuracy: 0.9923\n",
            "Epoch 13/20\n",
            "\n",
            "Epoch 00013: LearningRateScheduler reducing learning rate to 0.0006213753.\n",
            "469/469 [==============================] - 4s 8ms/step - loss: 0.0294 - accuracy: 0.9906 - val_loss: 0.0206 - val_accuracy: 0.9935\n",
            "Epoch 14/20\n",
            "\n",
            "Epoch 00014: LearningRateScheduler reducing learning rate to 0.0005828638.\n",
            "469/469 [==============================] - 4s 8ms/step - loss: 0.0320 - accuracy: 0.9899 - val_loss: 0.0230 - val_accuracy: 0.9928\n",
            "Epoch 15/20\n",
            "\n",
            "Epoch 00015: LearningRateScheduler reducing learning rate to 0.0005488474.\n",
            "469/469 [==============================] - 4s 8ms/step - loss: 0.0260 - accuracy: 0.9915 - val_loss: 0.0239 - val_accuracy: 0.9933\n",
            "Epoch 16/20\n",
            "\n",
            "Epoch 00016: LearningRateScheduler reducing learning rate to 0.0005185825.\n",
            "469/469 [==============================] - 4s 8ms/step - loss: 0.0283 - accuracy: 0.9913 - val_loss: 0.0225 - val_accuracy: 0.9931\n",
            "Epoch 17/20\n",
            "\n",
            "Epoch 00017: LearningRateScheduler reducing learning rate to 0.000491481.\n",
            "469/469 [==============================] - 4s 8ms/step - loss: 0.0256 - accuracy: 0.9911 - val_loss: 0.0249 - val_accuracy: 0.9925\n",
            "Epoch 18/20\n",
            "\n",
            "Epoch 00018: LearningRateScheduler reducing learning rate to 0.0004670715.\n",
            "469/469 [==============================] - 4s 8ms/step - loss: 0.0256 - accuracy: 0.9915 - val_loss: 0.0217 - val_accuracy: 0.9941\n",
            "Epoch 19/20\n",
            "\n",
            "Epoch 00019: LearningRateScheduler reducing learning rate to 0.0004449718.\n",
            "469/469 [==============================] - 4s 8ms/step - loss: 0.0249 - accuracy: 0.9917 - val_loss: 0.0210 - val_accuracy: 0.9941\n",
            "Epoch 20/20\n",
            "\n",
            "Epoch 00020: LearningRateScheduler reducing learning rate to 0.000424869.\n",
            "469/469 [==============================] - 4s 8ms/step - loss: 0.0237 - accuracy: 0.9918 - val_loss: 0.0206 - val_accuracy: 0.9941\n"
          ],
          "name": "stdout"
        },
        {
          "output_type": "execute_result",
          "data": {
            "text/plain": [
              "<keras.callbacks.History at 0x7f476fc4b110>"
            ]
          },
          "metadata": {
            "tags": []
          },
          "execution_count": 16
        }
      ]
    },
    {
      "cell_type": "code",
      "metadata": {
        "colab": {
          "base_uri": "https://localhost:8080/"
        },
        "id": "1rNHG-a0eVmt",
        "outputId": "1bbdc6fd-ba0b-43d4-a644-2edf7b75aa64"
      },
      "source": [
        "score = model3.evaluate(X_test, Y_test, verbose=0)\n",
        "print(score)\n",
        "y_pred = model3.predict(X_test)\n",
        "index1={}\n",
        "for i, k in enumerate(y_pred[1:2][0]):\n",
        "  index1.update({k:i})\n",
        "print('Prediction:',index1[max(index1)])\n",
        "print('Actual',y_test[1:2][0])"
      ],
      "execution_count": 17,
      "outputs": [
        {
          "output_type": "stream",
          "text": [
            "[0.020608754828572273, 0.9940999746322632]\n",
            "Prediction: 2\n",
            "Actual 2\n"
          ],
          "name": "stdout"
        }
      ]
    },
    {
      "cell_type": "markdown",
      "metadata": {
        "id": "vJw3AaDWmmdN"
      },
      "source": [
        "#MODEL4"
      ]
    },
    {
      "cell_type": "code",
      "metadata": {
        "colab": {
          "base_uri": "https://localhost:8080/"
        },
        "id": "nkNmI0ekeqNB",
        "outputId": "cbe618bf-3228-4a31-bfcf-2ca1134a25d6"
      },
      "source": [
        "model4 = Sequential()\n",
        "# Performing 2dconvolution followed by BatchNormalization and Dropout\n",
        "model4.add(Convolution2D(10, 3, activation='relu', input_shape=(28,28,1))) # channel dimensions = 26x26x10    \n",
        "model4.add(BatchNormalization())\n",
        "model4.add(Dropout(0.1))\n",
        "\n",
        "# Performing 2dconvolution followed by BatchNormalization and Dropout        \n",
        "model4.add(Convolution2D(16, 3, activation='relu'))                        # channel dimensions = 24x24x16    \n",
        "model4.add(BatchNormalization())\n",
        "model4.add(Dropout(0.1))\n",
        "\n",
        "# Performing 2dconvolution followed Maxpoooling operation\n",
        "model4.add(Convolution2D(10, 1, activation='relu')) #24                    # channel dimensions = 24x24x10    \n",
        "model4.add(MaxPooling2D(pool_size=(2, 2)))#12                                 # channel dimensions = 12x12x10    \n",
        "\n",
        "# Performing 2dconvolution followed by BatchNormalization and Dropout\n",
        "model4.add(Convolution2D(14, 3, activation='relu'))#10                     # channel dimensions = 10x10x14    \n",
        "model4.add(BatchNormalization())\n",
        "model4.add(Dropout(0.1))\n",
        "\n",
        "# Performing 2dconvolution followed by BatchNormalization and Dropout\n",
        "model4.add(Convolution2D(16, 3, activation='relu'))#8                      # channel dimensions = 8x8x16    \n",
        "model4.add(BatchNormalization())\n",
        "model4.add(Dropout(0.1))\n",
        "\n",
        "# Performing 2dconvolution followed by BatchNormalization and Dropout\n",
        "model4.add(Convolution2D(14, 3, activation='relu'))#6                      # channel dimensions = 6x6x14   \n",
        "model4.add(BatchNormalization())\n",
        "model4.add(Dropout(0.2))\n",
        "\n",
        "# Performing 2dconvolution followed by BatchNormalization and Dropout\n",
        "model4.add(Convolution2D(12, 3, activation='relu'))#4                      # channel dimensions = 4x4x12    \n",
        "model4.add(BatchNormalization())\n",
        "model4.add(Dropout(0.1))\n",
        "\n",
        "# Performing only 2dconvolution at the last convolution layer(no batchnormalization and dropout)\n",
        "model4.add(Convolution2D(10, 4))                                           # using 4x4 kernel to see the complete image\n",
        "\n",
        "# Here we are Flateening our dat i.e making it one dimensional which we will feed to the network.\n",
        "model4.add(Flatten())\n",
        "#Using softmax activation function at the last layer which is used for multi class classification\n",
        "model4.add(Activation('softmax'))\n",
        "model4.summary()"
      ],
      "execution_count": 13,
      "outputs": [
        {
          "output_type": "stream",
          "text": [
            "Model: \"sequential_1\"\n",
            "_________________________________________________________________\n",
            "Layer (type)                 Output Shape              Param #   \n",
            "=================================================================\n",
            "conv2d_7 (Conv2D)            (None, 26, 26, 10)        100       \n",
            "_________________________________________________________________\n",
            "batch_normalization_5 (Batch (None, 26, 26, 10)        40        \n",
            "_________________________________________________________________\n",
            "dropout_5 (Dropout)          (None, 26, 26, 10)        0         \n",
            "_________________________________________________________________\n",
            "conv2d_8 (Conv2D)            (None, 24, 24, 16)        1456      \n",
            "_________________________________________________________________\n",
            "batch_normalization_6 (Batch (None, 24, 24, 16)        64        \n",
            "_________________________________________________________________\n",
            "dropout_6 (Dropout)          (None, 24, 24, 16)        0         \n",
            "_________________________________________________________________\n",
            "conv2d_9 (Conv2D)            (None, 24, 24, 10)        170       \n",
            "_________________________________________________________________\n",
            "max_pooling2d_1 (MaxPooling2 (None, 12, 12, 10)        0         \n",
            "_________________________________________________________________\n",
            "conv2d_10 (Conv2D)           (None, 10, 10, 14)        1274      \n",
            "_________________________________________________________________\n",
            "batch_normalization_7 (Batch (None, 10, 10, 14)        56        \n",
            "_________________________________________________________________\n",
            "dropout_7 (Dropout)          (None, 10, 10, 14)        0         \n",
            "_________________________________________________________________\n",
            "conv2d_11 (Conv2D)           (None, 8, 8, 16)          2032      \n",
            "_________________________________________________________________\n",
            "batch_normalization_8 (Batch (None, 8, 8, 16)          64        \n",
            "_________________________________________________________________\n",
            "dropout_8 (Dropout)          (None, 8, 8, 16)          0         \n",
            "_________________________________________________________________\n",
            "conv2d_12 (Conv2D)           (None, 6, 6, 14)          2030      \n",
            "_________________________________________________________________\n",
            "batch_normalization_9 (Batch (None, 6, 6, 14)          56        \n",
            "_________________________________________________________________\n",
            "dropout_9 (Dropout)          (None, 6, 6, 14)          0         \n",
            "_________________________________________________________________\n",
            "conv2d_13 (Conv2D)           (None, 4, 4, 12)          1524      \n",
            "_________________________________________________________________\n",
            "batch_normalization_10 (Batc (None, 4, 4, 12)          48        \n",
            "_________________________________________________________________\n",
            "dropout_10 (Dropout)         (None, 4, 4, 12)          0         \n",
            "_________________________________________________________________\n",
            "conv2d_14 (Conv2D)           (None, 1, 1, 10)          1930      \n",
            "_________________________________________________________________\n",
            "flatten_1 (Flatten)          (None, 10)                0         \n",
            "_________________________________________________________________\n",
            "activation_1 (Activation)    (None, 10)                0         \n",
            "=================================================================\n",
            "Total params: 10,844\n",
            "Trainable params: 10,680\n",
            "Non-trainable params: 164\n",
            "_________________________________________________________________\n"
          ],
          "name": "stdout"
        }
      ]
    },
    {
      "cell_type": "code",
      "metadata": {
        "colab": {
          "base_uri": "https://localhost:8080/"
        },
        "id": "hcbkD7h1mc1d",
        "outputId": "6979e710-7178-4467-d458-55ec041bfd7c"
      },
      "source": [
        "\n",
        "\n",
        "\n",
        "# We are importing the learningratescheduler callback\n",
        "\n",
        "#Creating the \"scheduler\" function with two arguments i.e learningrate and epoch\n",
        "def scheduler(epoch, lr):\n",
        "  return round(0.003 * 1/(1 + 0.319 * epoch), 10)\n",
        "\n",
        "#\tLearningRate = LearningRate * 1/(1 + decay * epoch) here decay is 0.319 and epoch is 10.\n",
        "\n",
        "# here we are compiling our model and using 'categorical_crossentropy' as our loss function and adam as our optimizer with learning rate =0.003 and metrics is accuracy\n",
        "model4.compile(loss='categorical_crossentropy', optimizer=Adam(lr=0.003), metrics=['accuracy'])\n",
        "\n",
        "# Here we are traing our model using the data and using batch size of 128,number of epochs are 20 and using verbose=1 for printing out all the results.\n",
        "# In the callbacks parameter we are using the LearningRateScheduler which takes two arguments scheduler function which we built earlier to reduce the learning rate in each decay and verbose =1\n",
        "model4.fit(X_train, Y_train, batch_size=128, epochs=20, verbose=1, validation_data=(X_test, Y_test), callbacks=[LearningRateScheduler(scheduler, verbose=1)])"
      ],
      "execution_count": 14,
      "outputs": [
        {
          "output_type": "stream",
          "text": [
            "/usr/local/lib/python3.7/dist-packages/tensorflow/python/keras/optimizer_v2/optimizer_v2.py:375: UserWarning: The `lr` argument is deprecated, use `learning_rate` instead.\n",
            "  \"The `lr` argument is deprecated, use `learning_rate` instead.\")\n"
          ],
          "name": "stderr"
        },
        {
          "output_type": "stream",
          "text": [
            "Epoch 1/20\n",
            "\n",
            "Epoch 00001: LearningRateScheduler reducing learning rate to 0.003.\n",
            "469/469 [==============================] - 7s 10ms/step - loss: 0.5690 - accuracy: 0.8182 - val_loss: 0.1976 - val_accuracy: 0.9354\n",
            "Epoch 2/20\n",
            "\n",
            "Epoch 00002: LearningRateScheduler reducing learning rate to 0.0022744503.\n",
            "469/469 [==============================] - 4s 8ms/step - loss: 0.0779 - accuracy: 0.9760 - val_loss: 0.0509 - val_accuracy: 0.9832\n",
            "Epoch 3/20\n",
            "\n",
            "Epoch 00003: LearningRateScheduler reducing learning rate to 0.0018315018.\n",
            "469/469 [==============================] - 4s 8ms/step - loss: 0.0554 - accuracy: 0.9823 - val_loss: 0.0346 - val_accuracy: 0.9888\n",
            "Epoch 4/20\n",
            "\n",
            "Epoch 00004: LearningRateScheduler reducing learning rate to 0.0015329586.\n",
            "469/469 [==============================] - 4s 8ms/step - loss: 0.0488 - accuracy: 0.9842 - val_loss: 0.0349 - val_accuracy: 0.9888\n",
            "Epoch 5/20\n",
            "\n",
            "Epoch 00005: LearningRateScheduler reducing learning rate to 0.0013181019.\n",
            "469/469 [==============================] - 4s 8ms/step - loss: 0.0448 - accuracy: 0.9855 - val_loss: 0.0344 - val_accuracy: 0.9892\n",
            "Epoch 6/20\n",
            "\n",
            "Epoch 00006: LearningRateScheduler reducing learning rate to 0.0011560694.\n",
            "469/469 [==============================] - 4s 8ms/step - loss: 0.0412 - accuracy: 0.9866 - val_loss: 0.0247 - val_accuracy: 0.9914\n",
            "Epoch 7/20\n",
            "\n",
            "Epoch 00007: LearningRateScheduler reducing learning rate to 0.0010295127.\n",
            "469/469 [==============================] - 4s 8ms/step - loss: 0.0345 - accuracy: 0.9893 - val_loss: 0.0255 - val_accuracy: 0.9912\n",
            "Epoch 8/20\n",
            "\n",
            "Epoch 00008: LearningRateScheduler reducing learning rate to 0.0009279307.\n",
            "469/469 [==============================] - 4s 8ms/step - loss: 0.0347 - accuracy: 0.9898 - val_loss: 0.0230 - val_accuracy: 0.9919\n",
            "Epoch 9/20\n",
            "\n",
            "Epoch 00009: LearningRateScheduler reducing learning rate to 0.0008445946.\n",
            "469/469 [==============================] - 4s 9ms/step - loss: 0.0343 - accuracy: 0.9891 - val_loss: 0.0210 - val_accuracy: 0.9931\n",
            "Epoch 10/20\n",
            "\n",
            "Epoch 00010: LearningRateScheduler reducing learning rate to 0.0007749935.\n",
            "469/469 [==============================] - 4s 8ms/step - loss: 0.0300 - accuracy: 0.9908 - val_loss: 0.0248 - val_accuracy: 0.9920\n",
            "Epoch 11/20\n",
            "\n",
            "Epoch 00011: LearningRateScheduler reducing learning rate to 0.0007159905.\n",
            "469/469 [==============================] - 4s 8ms/step - loss: 0.0284 - accuracy: 0.9905 - val_loss: 0.0207 - val_accuracy: 0.9938\n",
            "Epoch 12/20\n",
            "\n",
            "Epoch 00012: LearningRateScheduler reducing learning rate to 0.000665336.\n",
            "469/469 [==============================] - 4s 8ms/step - loss: 0.0293 - accuracy: 0.9911 - val_loss: 0.0189 - val_accuracy: 0.9932\n",
            "Epoch 13/20\n",
            "\n",
            "Epoch 00013: LearningRateScheduler reducing learning rate to 0.0006213753.\n",
            "469/469 [==============================] - 4s 8ms/step - loss: 0.0247 - accuracy: 0.9920 - val_loss: 0.0201 - val_accuracy: 0.9936\n",
            "Epoch 14/20\n",
            "\n",
            "Epoch 00014: LearningRateScheduler reducing learning rate to 0.0005828638.\n",
            "469/469 [==============================] - 4s 8ms/step - loss: 0.0282 - accuracy: 0.9907 - val_loss: 0.0191 - val_accuracy: 0.9927\n",
            "Epoch 15/20\n",
            "\n",
            "Epoch 00015: LearningRateScheduler reducing learning rate to 0.0005488474.\n",
            "469/469 [==============================] - 4s 8ms/step - loss: 0.0244 - accuracy: 0.9923 - val_loss: 0.0216 - val_accuracy: 0.9933\n",
            "Epoch 16/20\n",
            "\n",
            "Epoch 00016: LearningRateScheduler reducing learning rate to 0.0005185825.\n",
            "469/469 [==============================] - 4s 8ms/step - loss: 0.0255 - accuracy: 0.9920 - val_loss: 0.0180 - val_accuracy: 0.9939\n",
            "Epoch 17/20\n",
            "\n",
            "Epoch 00017: LearningRateScheduler reducing learning rate to 0.000491481.\n",
            "469/469 [==============================] - 4s 8ms/step - loss: 0.0251 - accuracy: 0.9926 - val_loss: 0.0181 - val_accuracy: 0.9939\n",
            "Epoch 18/20\n",
            "\n",
            "Epoch 00018: LearningRateScheduler reducing learning rate to 0.0004670715.\n",
            "469/469 [==============================] - 4s 8ms/step - loss: 0.0249 - accuracy: 0.9921 - val_loss: 0.0187 - val_accuracy: 0.9938\n",
            "Epoch 19/20\n",
            "\n",
            "Epoch 00019: LearningRateScheduler reducing learning rate to 0.0004449718.\n",
            "469/469 [==============================] - 4s 8ms/step - loss: 0.0243 - accuracy: 0.9923 - val_loss: 0.0180 - val_accuracy: 0.9945\n",
            "Epoch 20/20\n",
            "\n",
            "Epoch 00020: LearningRateScheduler reducing learning rate to 0.000424869.\n",
            "469/469 [==============================] - 4s 8ms/step - loss: 0.0222 - accuracy: 0.9926 - val_loss: 0.0200 - val_accuracy: 0.9931\n"
          ],
          "name": "stdout"
        },
        {
          "output_type": "execute_result",
          "data": {
            "text/plain": [
              "<keras.callbacks.History at 0x7fafdc7a1450>"
            ]
          },
          "metadata": {
            "tags": []
          },
          "execution_count": 14
        }
      ]
    },
    {
      "cell_type": "code",
      "metadata": {
        "colab": {
          "base_uri": "https://localhost:8080/"
        },
        "id": "xC-jsOTdmo7r",
        "outputId": "e784181d-7754-4aae-9176-b90311ad9ecb"
      },
      "source": [
        "score = model4.evaluate(X_test, Y_test, verbose=0)\n",
        "print(score)\n",
        "y_pred = model4.predict(X_test)\n",
        "index1={}\n",
        "for i, k in enumerate(y_pred[:1][0]):\n",
        "  index1.update({k:i})\n",
        "print('Prediction:',index1[max(index1)])\n",
        "print('Actual',y_test[:1][0])"
      ],
      "execution_count": 17,
      "outputs": [
        {
          "output_type": "stream",
          "text": [
            "[0.020009227097034454, 0.9930999875068665]\n",
            "Prediction: 7\n",
            "Actual 7\n"
          ],
          "name": "stdout"
        }
      ]
    },
    {
      "cell_type": "markdown",
      "metadata": {
        "id": "UtGvtWdj33bS"
      },
      "source": [
        "#MODEL5"
      ]
    },
    {
      "cell_type": "code",
      "metadata": {
        "colab": {
          "base_uri": "https://localhost:8080/"
        },
        "id": "0fMwOvwVmuTP",
        "outputId": "ddd0e756-1d24-40d7-8bfd-c3f8db7f32d2"
      },
      "source": [
        "model5 = Sequential()\n",
        "# Performing 2dconvolution followed by BatchNormalization and Dropout\n",
        "model5.add(Convolution2D(10, 3, activation='relu', input_shape=(28,28,1))) # channel dimensions = 26x26x10    \n",
        "model5.add(BatchNormalization())\n",
        "model5.add(Dropout(0.1))\n",
        "\n",
        "# Performing 2dconvolution followed by BatchNormalization and Dropout        \n",
        "model5.add(Convolution2D(16, 3, activation='relu'))                        # channel dimensions = 24x24x16    \n",
        "model5.add(BatchNormalization())\n",
        "model5.add(Dropout(0.1))\n",
        "\n",
        "# Performing 2dconvolution followed Maxpoooling operation\n",
        "model5.add(Convolution2D(10, 1, activation='relu')) #24                    # channel dimensions = 24x24x10    \n",
        "model5.add(MaxPooling2D(pool_size=(2, 2)))#12                                 # channel dimensions = 12x12x10    \n",
        "\n",
        "# Performing 2dconvolution followed by BatchNormalization and Dropout\n",
        "model5.add(Convolution2D(16, 5, activation='relu'))#10                     # channel dimensions = 8x8x16   \n",
        "model5.add(BatchNormalization())\n",
        "model5.add(Dropout(0.1))\n",
        "\n",
        "# Performing 2dconvolution followed by BatchNormalization and Dropout\n",
        "model5.add(Convolution2D(10, 3, activation='relu'))#8                      # channel dimensions = 6x6x10  \n",
        "model5.add(BatchNormalization())\n",
        "model5.add(Dropout(0.1))\n",
        "\n",
        "# Performing 2dconvolution followed by BatchNormalization and Dropout\n",
        "model5.add(Convolution2D(14, 3, activation='relu'))#6                      # channel dimensions = 4x4x14   \n",
        "model5.add(BatchNormalization())\n",
        "model5.add(Dropout(0.2))\n",
        "\n",
        "\n",
        "# Performing only 2dconvolution at the last convolution layer(no batchnormalization and dropout)\n",
        "model5.add(Convolution2D(10, 4))                                           # using 4x4 kernel to see the complete image\n",
        "\n",
        "# Here we are Flateening our dat i.e making it one dimensional which we will feed to the network.\n",
        "model5.add(Flatten())\n",
        "#Using softmax activation function at the last layer which is used for multi class classification\n",
        "model5.add(Activation('softmax'))\n",
        "model5.summary()"
      ],
      "execution_count": 18,
      "outputs": [
        {
          "output_type": "stream",
          "text": [
            "Model: \"sequential_2\"\n",
            "_________________________________________________________________\n",
            "Layer (type)                 Output Shape              Param #   \n",
            "=================================================================\n",
            "conv2d_15 (Conv2D)           (None, 26, 26, 10)        100       \n",
            "_________________________________________________________________\n",
            "batch_normalization_11 (Batc (None, 26, 26, 10)        40        \n",
            "_________________________________________________________________\n",
            "dropout_11 (Dropout)         (None, 26, 26, 10)        0         \n",
            "_________________________________________________________________\n",
            "conv2d_16 (Conv2D)           (None, 24, 24, 16)        1456      \n",
            "_________________________________________________________________\n",
            "batch_normalization_12 (Batc (None, 24, 24, 16)        64        \n",
            "_________________________________________________________________\n",
            "dropout_12 (Dropout)         (None, 24, 24, 16)        0         \n",
            "_________________________________________________________________\n",
            "conv2d_17 (Conv2D)           (None, 24, 24, 10)        170       \n",
            "_________________________________________________________________\n",
            "max_pooling2d_2 (MaxPooling2 (None, 12, 12, 10)        0         \n",
            "_________________________________________________________________\n",
            "conv2d_18 (Conv2D)           (None, 8, 8, 16)          4016      \n",
            "_________________________________________________________________\n",
            "batch_normalization_13 (Batc (None, 8, 8, 16)          64        \n",
            "_________________________________________________________________\n",
            "dropout_13 (Dropout)         (None, 8, 8, 16)          0         \n",
            "_________________________________________________________________\n",
            "conv2d_19 (Conv2D)           (None, 6, 6, 10)          1450      \n",
            "_________________________________________________________________\n",
            "batch_normalization_14 (Batc (None, 6, 6, 10)          40        \n",
            "_________________________________________________________________\n",
            "dropout_14 (Dropout)         (None, 6, 6, 10)          0         \n",
            "_________________________________________________________________\n",
            "conv2d_20 (Conv2D)           (None, 4, 4, 14)          1274      \n",
            "_________________________________________________________________\n",
            "batch_normalization_15 (Batc (None, 4, 4, 14)          56        \n",
            "_________________________________________________________________\n",
            "dropout_15 (Dropout)         (None, 4, 4, 14)          0         \n",
            "_________________________________________________________________\n",
            "conv2d_21 (Conv2D)           (None, 1, 1, 10)          2250      \n",
            "_________________________________________________________________\n",
            "flatten_2 (Flatten)          (None, 10)                0         \n",
            "_________________________________________________________________\n",
            "activation_2 (Activation)    (None, 10)                0         \n",
            "=================================================================\n",
            "Total params: 10,980\n",
            "Trainable params: 10,848\n",
            "Non-trainable params: 132\n",
            "_________________________________________________________________\n"
          ],
          "name": "stdout"
        }
      ]
    },
    {
      "cell_type": "code",
      "metadata": {
        "colab": {
          "base_uri": "https://localhost:8080/"
        },
        "id": "0dR1fhRW4Ypa",
        "outputId": "20cedd31-faa7-4c9d-fec5-3d3351085014"
      },
      "source": [
        "\n",
        "\n",
        "\n",
        "# We are importing the learningratescheduler callback\n",
        "\n",
        "#Creating the \"scheduler\" function with two arguments i.e learningrate and epoch\n",
        "def scheduler(epoch, lr):\n",
        "  return round(0.003 * 1/(1 + 0.319 * epoch), 10)\n",
        "\n",
        "#\tLearningRate = LearningRate * 1/(1 + decay * epoch) here decay is 0.319 and epoch is 10.\n",
        "\n",
        "# here we are compiling our model and using 'categorical_crossentropy' as our loss function and adam as our optimizer with learning rate =0.003 and metrics is accuracy\n",
        "model5.compile(loss='categorical_crossentropy', optimizer=Adam(lr=0.003), metrics=['accuracy'])\n",
        "\n",
        "# Here we are traing our model using the data and using batch size of 128,number of epochs are 20 and using verbose=1 for printing out all the results.\n",
        "# In the callbacks parameter we are using the LearningRateScheduler which takes two arguments scheduler function which we built earlier to reduce the learning rate in each decay and verbose =1\n",
        "model5.fit(X_train, Y_train, batch_size=128, epochs=20, verbose=1, validation_data=(X_test, Y_test), callbacks=[LearningRateScheduler(scheduler, verbose=1)])"
      ],
      "execution_count": 19,
      "outputs": [
        {
          "output_type": "stream",
          "text": [
            "/usr/local/lib/python3.7/dist-packages/tensorflow/python/keras/optimizer_v2/optimizer_v2.py:375: UserWarning: The `lr` argument is deprecated, use `learning_rate` instead.\n",
            "  \"The `lr` argument is deprecated, use `learning_rate` instead.\")\n"
          ],
          "name": "stderr"
        },
        {
          "output_type": "stream",
          "text": [
            "Epoch 1/20\n",
            "\n",
            "Epoch 00001: LearningRateScheduler reducing learning rate to 0.003.\n",
            "469/469 [==============================] - 7s 10ms/step - loss: 0.5688 - accuracy: 0.8203 - val_loss: 0.1668 - val_accuracy: 0.9443\n",
            "Epoch 2/20\n",
            "\n",
            "Epoch 00002: LearningRateScheduler reducing learning rate to 0.0022744503.\n",
            "469/469 [==============================] - 4s 8ms/step - loss: 0.0834 - accuracy: 0.9732 - val_loss: 0.0488 - val_accuracy: 0.9855\n",
            "Epoch 3/20\n",
            "\n",
            "Epoch 00003: LearningRateScheduler reducing learning rate to 0.0018315018.\n",
            "469/469 [==============================] - 4s 8ms/step - loss: 0.0596 - accuracy: 0.9818 - val_loss: 0.0563 - val_accuracy: 0.9821\n",
            "Epoch 4/20\n",
            "\n",
            "Epoch 00004: LearningRateScheduler reducing learning rate to 0.0015329586.\n",
            "469/469 [==============================] - 4s 9ms/step - loss: 0.0493 - accuracy: 0.9842 - val_loss: 0.0293 - val_accuracy: 0.9902\n",
            "Epoch 5/20\n",
            "\n",
            "Epoch 00005: LearningRateScheduler reducing learning rate to 0.0013181019.\n",
            "469/469 [==============================] - 4s 8ms/step - loss: 0.0428 - accuracy: 0.9867 - val_loss: 0.0333 - val_accuracy: 0.9898\n",
            "Epoch 6/20\n",
            "\n",
            "Epoch 00006: LearningRateScheduler reducing learning rate to 0.0011560694.\n",
            "469/469 [==============================] - 4s 8ms/step - loss: 0.0399 - accuracy: 0.9871 - val_loss: 0.0421 - val_accuracy: 0.9880\n",
            "Epoch 7/20\n",
            "\n",
            "Epoch 00007: LearningRateScheduler reducing learning rate to 0.0010295127.\n",
            "469/469 [==============================] - 4s 8ms/step - loss: 0.0366 - accuracy: 0.9885 - val_loss: 0.0278 - val_accuracy: 0.9916\n",
            "Epoch 8/20\n",
            "\n",
            "Epoch 00008: LearningRateScheduler reducing learning rate to 0.0009279307.\n",
            "469/469 [==============================] - 4s 8ms/step - loss: 0.0333 - accuracy: 0.9891 - val_loss: 0.0271 - val_accuracy: 0.9916\n",
            "Epoch 9/20\n",
            "\n",
            "Epoch 00009: LearningRateScheduler reducing learning rate to 0.0008445946.\n",
            "469/469 [==============================] - 4s 8ms/step - loss: 0.0323 - accuracy: 0.9901 - val_loss: 0.0275 - val_accuracy: 0.9912\n",
            "Epoch 10/20\n",
            "\n",
            "Epoch 00010: LearningRateScheduler reducing learning rate to 0.0007749935.\n",
            "469/469 [==============================] - 4s 7ms/step - loss: 0.0331 - accuracy: 0.9896 - val_loss: 0.0267 - val_accuracy: 0.9924\n",
            "Epoch 11/20\n",
            "\n",
            "Epoch 00011: LearningRateScheduler reducing learning rate to 0.0007159905.\n",
            "469/469 [==============================] - 4s 8ms/step - loss: 0.0285 - accuracy: 0.9907 - val_loss: 0.0240 - val_accuracy: 0.9929\n",
            "Epoch 12/20\n",
            "\n",
            "Epoch 00012: LearningRateScheduler reducing learning rate to 0.000665336.\n",
            "469/469 [==============================] - 4s 8ms/step - loss: 0.0263 - accuracy: 0.9910 - val_loss: 0.0255 - val_accuracy: 0.9924\n",
            "Epoch 13/20\n",
            "\n",
            "Epoch 00013: LearningRateScheduler reducing learning rate to 0.0006213753.\n",
            "469/469 [==============================] - 4s 7ms/step - loss: 0.0243 - accuracy: 0.9923 - val_loss: 0.0259 - val_accuracy: 0.9918\n",
            "Epoch 14/20\n",
            "\n",
            "Epoch 00014: LearningRateScheduler reducing learning rate to 0.0005828638.\n",
            "469/469 [==============================] - 4s 8ms/step - loss: 0.0267 - accuracy: 0.9918 - val_loss: 0.0252 - val_accuracy: 0.9933\n",
            "Epoch 15/20\n",
            "\n",
            "Epoch 00015: LearningRateScheduler reducing learning rate to 0.0005488474.\n",
            "469/469 [==============================] - 4s 8ms/step - loss: 0.0245 - accuracy: 0.9920 - val_loss: 0.0257 - val_accuracy: 0.9924\n",
            "Epoch 16/20\n",
            "\n",
            "Epoch 00016: LearningRateScheduler reducing learning rate to 0.0005185825.\n",
            "469/469 [==============================] - 4s 8ms/step - loss: 0.0218 - accuracy: 0.9931 - val_loss: 0.0231 - val_accuracy: 0.9929\n",
            "Epoch 17/20\n",
            "\n",
            "Epoch 00017: LearningRateScheduler reducing learning rate to 0.000491481.\n",
            "469/469 [==============================] - 4s 8ms/step - loss: 0.0223 - accuracy: 0.9931 - val_loss: 0.0256 - val_accuracy: 0.9924\n",
            "Epoch 18/20\n",
            "\n",
            "Epoch 00018: LearningRateScheduler reducing learning rate to 0.0004670715.\n",
            "469/469 [==============================] - 4s 8ms/step - loss: 0.0235 - accuracy: 0.9921 - val_loss: 0.0231 - val_accuracy: 0.9935\n",
            "Epoch 19/20\n",
            "\n",
            "Epoch 00019: LearningRateScheduler reducing learning rate to 0.0004449718.\n",
            "469/469 [==============================] - 4s 8ms/step - loss: 0.0229 - accuracy: 0.9921 - val_loss: 0.0276 - val_accuracy: 0.9925\n",
            "Epoch 20/20\n",
            "\n",
            "Epoch 00020: LearningRateScheduler reducing learning rate to 0.000424869.\n",
            "469/469 [==============================] - 4s 8ms/step - loss: 0.0222 - accuracy: 0.9921 - val_loss: 0.0232 - val_accuracy: 0.9936\n"
          ],
          "name": "stdout"
        },
        {
          "output_type": "execute_result",
          "data": {
            "text/plain": [
              "<keras.callbacks.History at 0x7fafee0713d0>"
            ]
          },
          "metadata": {
            "tags": []
          },
          "execution_count": 19
        }
      ]
    },
    {
      "cell_type": "code",
      "metadata": {
        "colab": {
          "base_uri": "https://localhost:8080/"
        },
        "id": "9RGlLbZL4fDZ",
        "outputId": "7cf09030-1e7b-4b4d-d4ed-8367ee2c12e7"
      },
      "source": [
        "score = model5.evaluate(X_test, Y_test, verbose=0)\n",
        "print(score)\n",
        "y_pred = model5.predict(X_test)\n",
        "index1={}\n",
        "for i, k in enumerate(y_pred[:1][0]):\n",
        "  index1.update({k:i})\n",
        "print('Prediction:',index1[max(index1)])\n",
        "print('Actual',y_test[:1][0])"
      ],
      "execution_count": 20,
      "outputs": [
        {
          "output_type": "stream",
          "text": [
            "[0.023236140608787537, 0.9936000108718872]\n",
            "Prediction: 7\n",
            "Actual 7\n"
          ],
          "name": "stdout"
        }
      ]
    }
  ]
}